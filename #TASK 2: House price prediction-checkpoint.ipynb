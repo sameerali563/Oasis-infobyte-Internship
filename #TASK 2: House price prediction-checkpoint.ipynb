{
 "cells": [
  {
   "cell_type": "markdown",
   "id": "5e1046ad",
   "metadata": {},
   "source": [
    "# Prediction House price by Linear Regression:"
   ]
  },
  {
   "cell_type": "code",
   "execution_count": 61,
   "id": "f48699bb",
   "metadata": {},
   "outputs": [],
   "source": [
    "# Import libraries:\n",
    "import numpy as np\n",
    "import pandas as pd\n",
    "from sklearn.linear_model import LinearRegression\n",
    "from sklearn.model_selection import train_test_split\n",
    "from sklearn.metrics import accuracy_score, mean_squared_error, r2_score\n",
    "from sklearn.preprocessing import StandardScaler\n",
    "import matplotlib.pyplot as plt"
   ]
  },
  {
   "cell_type": "code",
   "execution_count": 62,
   "id": "7340d2c1",
   "metadata": {},
   "outputs": [
    {
     "data": {
      "text/html": [
       "<div>\n",
       "<style scoped>\n",
       "    .dataframe tbody tr th:only-of-type {\n",
       "        vertical-align: middle;\n",
       "    }\n",
       "\n",
       "    .dataframe tbody tr th {\n",
       "        vertical-align: top;\n",
       "    }\n",
       "\n",
       "    .dataframe thead th {\n",
       "        text-align: right;\n",
       "    }\n",
       "</style>\n",
       "<table border=\"1\" class=\"dataframe\">\n",
       "  <thead>\n",
       "    <tr style=\"text-align: right;\">\n",
       "      <th></th>\n",
       "      <th>House Price</th>\n",
       "      <th>Living Area</th>\n",
       "    </tr>\n",
       "  </thead>\n",
       "  <tbody>\n",
       "    <tr>\n",
       "      <th>0</th>\n",
       "      <td>218000</td>\n",
       "      <td>1580</td>\n",
       "    </tr>\n",
       "    <tr>\n",
       "      <th>1</th>\n",
       "      <td>158900</td>\n",
       "      <td>1100</td>\n",
       "    </tr>\n",
       "    <tr>\n",
       "      <th>2</th>\n",
       "      <td>229000</td>\n",
       "      <td>2560</td>\n",
       "    </tr>\n",
       "    <tr>\n",
       "      <th>3</th>\n",
       "      <td>94000</td>\n",
       "      <td>1064</td>\n",
       "    </tr>\n",
       "    <tr>\n",
       "      <th>4</th>\n",
       "      <td>233000</td>\n",
       "      <td>2080</td>\n",
       "    </tr>\n",
       "  </tbody>\n",
       "</table>\n",
       "</div>"
      ],
      "text/plain": [
       "   House Price  Living Area\n",
       "0       218000         1580\n",
       "1       158900         1100\n",
       "2       229000         2560\n",
       "3        94000         1064\n",
       "4       233000         2080"
      ]
     },
     "execution_count": 62,
     "metadata": {},
     "output_type": "execute_result"
    }
   ],
   "source": [
    "# Dataset:\n",
    "data = pd.read_csv('C:/Users/Lenovo/Documents/House.Price.csv')\n",
    "data.head()"
   ]
  },
  {
   "cell_type": "code",
   "execution_count": 63,
   "id": "9b7e43a4",
   "metadata": {},
   "outputs": [
    {
     "name": "stdout",
     "output_type": "stream",
     "text": [
      "<class 'pandas.core.frame.DataFrame'>\n",
      "RangeIndex: 1000 entries, 0 to 999\n",
      "Data columns (total 2 columns):\n",
      " #   Column       Non-Null Count  Dtype\n",
      "---  ------       --------------  -----\n",
      " 0   House Price  1000 non-null   int64\n",
      " 1   Living Area  1000 non-null   int64\n",
      "dtypes: int64(2)\n",
      "memory usage: 15.8 KB\n"
     ]
    }
   ],
   "source": [
    "data.info()"
   ]
  },
  {
   "cell_type": "code",
   "execution_count": 64,
   "id": "2db785de",
   "metadata": {},
   "outputs": [
    {
     "data": {
      "text/plain": [
       "(1000, 2)"
      ]
     },
     "execution_count": 64,
     "metadata": {},
     "output_type": "execute_result"
    }
   ],
   "source": [
    "data.shape"
   ]
  },
  {
   "cell_type": "code",
   "execution_count": 65,
   "id": "1ca8234c",
   "metadata": {
    "scrolled": true
   },
   "outputs": [
    {
     "data": {
      "text/html": [
       "<div>\n",
       "<style scoped>\n",
       "    .dataframe tbody tr th:only-of-type {\n",
       "        vertical-align: middle;\n",
       "    }\n",
       "\n",
       "    .dataframe tbody tr th {\n",
       "        vertical-align: top;\n",
       "    }\n",
       "\n",
       "    .dataframe thead th {\n",
       "        text-align: right;\n",
       "    }\n",
       "</style>\n",
       "<table border=\"1\" class=\"dataframe\">\n",
       "  <thead>\n",
       "    <tr style=\"text-align: right;\">\n",
       "      <th></th>\n",
       "      <th>House Price</th>\n",
       "      <th>Living Area</th>\n",
       "    </tr>\n",
       "  </thead>\n",
       "  <tbody>\n",
       "    <tr>\n",
       "      <th>count</th>\n",
       "      <td>1000.000000</td>\n",
       "      <td>1000.00000</td>\n",
       "    </tr>\n",
       "    <tr>\n",
       "      <th>mean</th>\n",
       "      <td>220287.902000</td>\n",
       "      <td>1857.98000</td>\n",
       "    </tr>\n",
       "    <tr>\n",
       "      <th>std</th>\n",
       "      <td>94463.059716</td>\n",
       "      <td>648.29803</td>\n",
       "    </tr>\n",
       "    <tr>\n",
       "      <th>min</th>\n",
       "      <td>52500.000000</td>\n",
       "      <td>540.00000</td>\n",
       "    </tr>\n",
       "    <tr>\n",
       "      <th>25%</th>\n",
       "      <td>149975.000000</td>\n",
       "      <td>1385.00000</td>\n",
       "    </tr>\n",
       "    <tr>\n",
       "      <th>50%</th>\n",
       "      <td>199950.000000</td>\n",
       "      <td>1759.50000</td>\n",
       "    </tr>\n",
       "    <tr>\n",
       "      <th>75%</th>\n",
       "      <td>273300.000000</td>\n",
       "      <td>2286.75000</td>\n",
       "    </tr>\n",
       "    <tr>\n",
       "      <th>max</th>\n",
       "      <td>590000.000000</td>\n",
       "      <td>4859.00000</td>\n",
       "    </tr>\n",
       "  </tbody>\n",
       "</table>\n",
       "</div>"
      ],
      "text/plain": [
       "         House Price  Living Area\n",
       "count    1000.000000   1000.00000\n",
       "mean   220287.902000   1857.98000\n",
       "std     94463.059716    648.29803\n",
       "min     52500.000000    540.00000\n",
       "25%    149975.000000   1385.00000\n",
       "50%    199950.000000   1759.50000\n",
       "75%    273300.000000   2286.75000\n",
       "max    590000.000000   4859.00000"
      ]
     },
     "execution_count": 65,
     "metadata": {},
     "output_type": "execute_result"
    }
   ],
   "source": [
    "data.describe()"
   ]
  },
  {
   "cell_type": "code",
   "execution_count": 66,
   "id": "5908643f",
   "metadata": {},
   "outputs": [
    {
     "data": {
      "text/plain": [
       "House Price    0\n",
       "Living Area    0\n",
       "dtype: int64"
      ]
     },
     "execution_count": 66,
     "metadata": {},
     "output_type": "execute_result"
    }
   ],
   "source": [
    "data.isnull().sum()"
   ]
  },
  {
   "cell_type": "code",
   "execution_count": 73,
   "id": "ceb0bd6f",
   "metadata": {},
   "outputs": [],
   "source": [
    "# Train_Test_Split:\n",
    "X=np.array(data['Living Area']).reshape(-1,1)\n",
    "y=np.array(data['House Price']).reshape(-1,1)"
   ]
  },
  {
   "cell_type": "code",
   "execution_count": 74,
   "id": "a01e4129",
   "metadata": {},
   "outputs": [],
   "source": [
    "X_train, X_test, y_train, y_test = train_test_split(X,y, test_size=0.2, random_state=42)\n"
   ]
  },
  {
   "cell_type": "code",
   "execution_count": 75,
   "id": "86988c61",
   "metadata": {},
   "outputs": [],
   "source": [
    "#preprocessing:\n",
    "scaler = StandardScaler()"
   ]
  },
  {
   "cell_type": "code",
   "execution_count": 76,
   "id": "c4fd0d66",
   "metadata": {},
   "outputs": [],
   "source": [
    "X_train_scaled = scaler.fit_transform(X_train)"
   ]
  },
  {
   "cell_type": "code",
   "execution_count": 77,
   "id": "100eba6c",
   "metadata": {},
   "outputs": [],
   "source": [
    "X_test_scaled = scaler.transform(X_test)"
   ]
  },
  {
   "cell_type": "code",
   "execution_count": 78,
   "id": "de2aedf3",
   "metadata": {},
   "outputs": [
    {
     "data": {
      "text/plain": [
       "LinearRegression()"
      ]
     },
     "execution_count": 78,
     "metadata": {},
     "output_type": "execute_result"
    }
   ],
   "source": [
    "# Trainning the model:\n",
    "model = LinearRegression()\n",
    "model.fit(X_train_scaled, y_train)"
   ]
  },
  {
   "cell_type": "code",
   "execution_count": 86,
   "id": "2e83555c",
   "metadata": {},
   "outputs": [
    {
     "data": {
      "text/plain": [
       "array([[150430.46],\n",
       "       [268429.97],\n",
       "       [264956.1 ],\n",
       "       [176428.45],\n",
       "       [217666.64],\n",
       "       [291850.57],\n",
       "       [188194.78],\n",
       "       [362000.33],\n",
       "       [193349.56],\n",
       "       [220356.09],\n",
       "       [266188.76],\n",
       "       [214753.08],\n",
       "       [204219.41],\n",
       "       [169256.59],\n",
       "       [182703.83],\n",
       "       [307202.84],\n",
       "       [290057.61],\n",
       "       [154240.51],\n",
       "       [247026.45],\n",
       "       [176428.45],\n",
       "       [241199.31],\n",
       "       [120398.29],\n",
       "       [246578.21],\n",
       "       [232682.73],\n",
       "       [348777.21],\n",
       "       [267869.67],\n",
       "       [162308.85],\n",
       "       [279075.7 ],\n",
       "       [178669.65],\n",
       "       [258904.84],\n",
       "       [189875.69],\n",
       "       [118157.08],\n",
       "       [194358.1 ],\n",
       "       [395618.43],\n",
       "       [188979.2 ],\n",
       "       [224614.38],\n",
       "       [247026.45],\n",
       "       [140905.33],\n",
       "       [233130.97],\n",
       "       [145051.56],\n",
       "       [266749.06],\n",
       "       [207693.28],\n",
       "       [264059.62],\n",
       "       [188194.78],\n",
       "       [220356.09],\n",
       "       [207020.91],\n",
       "       [232458.61],\n",
       "       [299806.86],\n",
       "       [362000.33],\n",
       "       [188082.72],\n",
       "       [333200.83],\n",
       "       [293755.6 ],\n",
       "       [163877.69],\n",
       "       [196599.31],\n",
       "       [150430.46],\n",
       "       [204891.77],\n",
       "       [216321.92],\n",
       "       [151326.94],\n",
       "       [299582.74],\n",
       "       [177324.93],\n",
       "       [116476.18],\n",
       "       [290729.97],\n",
       "       [191220.41],\n",
       "       [189427.45],\n",
       "       [122639.5 ],\n",
       "       [196151.06],\n",
       "       [165782.72],\n",
       "       [413548.08],\n",
       "       [ 99330.95],\n",
       "       [291290.27],\n",
       "       [150430.46],\n",
       "       [161188.25],\n",
       "       [355276.71],\n",
       "       [127570.15],\n",
       "       [351466.66],\n",
       "       [555080.25],\n",
       "       [279075.7 ],\n",
       "       [147516.89],\n",
       "       [198392.27],\n",
       "       [235932.48],\n",
       "       [348665.15],\n",
       "       [162981.21],\n",
       "       [187074.18],\n",
       "       [287256.1 ],\n",
       "       [137095.28],\n",
       "       [220131.97],\n",
       "       [241311.37],\n",
       "       [285014.89],\n",
       "       [325356.61],\n",
       "       [238733.98],\n",
       "       [211391.27],\n",
       "       [217330.46],\n",
       "       [264171.68],\n",
       "       [114122.91],\n",
       "       [112778.19],\n",
       "       [297005.35],\n",
       "       [316279.72],\n",
       "       [112778.19],\n",
       "       [231113.88],\n",
       "       [153119.9 ],\n",
       "       [222597.3 ],\n",
       "       [314598.82],\n",
       "       [168808.35],\n",
       "       [176428.45],\n",
       "       [176316.39],\n",
       "       [180014.38],\n",
       "       [234139.51],\n",
       "       [ 79384.22],\n",
       "       [148861.61],\n",
       "       [352026.96],\n",
       "       [229320.92],\n",
       "       [303280.73],\n",
       "       [424081.75],\n",
       "       [202874.68],\n",
       "       [340372.69],\n",
       "       [185169.15],\n",
       "       [163877.69],\n",
       "       [286695.8 ],\n",
       "       [304625.45],\n",
       "       [176428.45],\n",
       "       [176428.45],\n",
       "       [231786.24],\n",
       "       [197047.55],\n",
       "       [305858.11],\n",
       "       [155585.23],\n",
       "       [268766.15],\n",
       "       [191668.65],\n",
       "       [235932.48],\n",
       "       [159171.16],\n",
       "       [112778.19],\n",
       "       [237501.32],\n",
       "       [482128.99],\n",
       "       [105606.33],\n",
       "       [175531.97],\n",
       "       [293643.54],\n",
       "       [384524.45],\n",
       "       [188755.08],\n",
       "       [205452.07],\n",
       "       [200633.48],\n",
       "       [490645.57],\n",
       "       [321210.38],\n",
       "       [304065.15],\n",
       "       [301936.  ],\n",
       "       [189875.69],\n",
       "       [215873.68],\n",
       "       [427331.49],\n",
       "       [123535.98],\n",
       "       [110985.22],\n",
       "       [260025.44],\n",
       "       [237277.2 ],\n",
       "       [159283.22],\n",
       "       [193349.56],\n",
       "       [253413.89],\n",
       "       [190323.93],\n",
       "       [235148.05],\n",
       "       [173739.  ],\n",
       "       [409289.78],\n",
       "       [197271.67],\n",
       "       [248595.29],\n",
       "       [227303.83],\n",
       "       [250164.14],\n",
       "       [225286.75],\n",
       "       [302160.12],\n",
       "       [119950.05],\n",
       "       [156369.65],\n",
       "       [184720.91],\n",
       "       [113002.31],\n",
       "       [281316.9 ],\n",
       "       [183600.31],\n",
       "       [176428.45],\n",
       "       [286023.44],\n",
       "       [173290.76],\n",
       "       [172842.52],\n",
       "       [474172.71],\n",
       "       [325692.79],\n",
       "       [230105.34],\n",
       "       [217442.52],\n",
       "       [286359.62],\n",
       "       [224614.38],\n",
       "       [117036.48],\n",
       "       [274369.16],\n",
       "       [192341.01],\n",
       "       [193461.62],\n",
       "       [310004.34],\n",
       "       [285911.38],\n",
       "       [153119.9 ],\n",
       "       [232458.61],\n",
       "       [176428.45],\n",
       "       [346872.19],\n",
       "       [214080.71],\n",
       "       [199849.05],\n",
       "       [290505.85],\n",
       "       [167463.62],\n",
       "       [165894.78],\n",
       "       [234251.57],\n",
       "       [223493.78],\n",
       "       [178669.65],\n",
       "       [291402.33],\n",
       "       [242095.79],\n",
       "       [202650.56]])"
      ]
     },
     "execution_count": 86,
     "metadata": {},
     "output_type": "execute_result"
    }
   ],
   "source": [
    "y_pred = model.predict(X_test_scaled)\n",
    "y_pred = np.round(y_pred,decimals=2)\n",
    "y_pred\n",
    "\n"
   ]
  },
  {
   "cell_type": "code",
   "execution_count": 81,
   "id": "6a23e154",
   "metadata": {},
   "outputs": [
    {
     "name": "stdout",
     "output_type": "stream",
     "text": [
      "Root Mean Squared Error (RMSE): 53823.97\n"
     ]
    }
   ],
   "source": [
    "# Evaluate the model:\n",
    "mse = mean_squared_error(y_test, y_pred)\n",
    "rmse = np.sqrt(mse)\n",
    "\n",
    "print(f\"Root Mean Squared Error (RMSE): {rmse:.2f}\")\n",
    "\n"
   ]
  },
  {
   "cell_type": "code",
   "execution_count": 82,
   "id": "4260baf6",
   "metadata": {},
   "outputs": [
    {
     "data": {
      "image/png": "[encoded data removed]",
      "text/plain": [
       "<Figure size 640x480 with 1 Axes>"
      ]
     },
     "metadata": {},
     "output_type": "display_data"
    }
   ],
   "source": [
    "# Visualization:\n",
    "plt.scatter(y_test, y_pred, color='blue', alpha=0.6)\n",
    "plt.xlabel(\"Actual Prices\")\n",
    "plt.ylabel(\"Predicted Prices\")\n",
    "plt.title(\"Actual vs Predicted Prices\")\n",
    "plt.plot([y_test.min(), y_test.max()], [y_test.min(), y_test.max()], color='red')  # Diagonal line for reference\n",
    "plt.show()"
   ]
  },
  {
   "cell_type": "code",
   "execution_count": null,
   "id": "108cadc4",
   "metadata": {},
   "outputs": [],
   "source": []
  }
 ],
 "metadata": {
  "kernelspec": {
   "display_name": "Python 3 (ipykernel)",
   "language": "python",
   "name": "python3"
  },
  "language_info": {
   "codemirror_mode": {
    "name": "ipython",
    "version": 3
   },
   "file_extension": ".py",
   "mimetype": "text/x-python",
   "name": "python",
   "nbconvert_exporter": "python",
   "pygments_lexer": "ipython3",
   "version": "3.9.13"
  }
 },
 "nbformat": 4,
 "nbformat_minor": 5
}
